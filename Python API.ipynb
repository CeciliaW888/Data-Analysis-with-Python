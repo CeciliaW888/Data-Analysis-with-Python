{
 "cells": [
  {
   "cell_type": "code",
   "execution_count": 1,
   "metadata": {},
   "outputs": [],
   "source": [
    "import requests"
   ]
  },
  {
   "cell_type": "code",
   "execution_count": 2,
   "metadata": {},
   "outputs": [],
   "source": [
    "url = \"https://api.openaq.org/v2/measurements?date_from=2022-07-01&date_to=2022-08-23&limit=1000&sort=desc&parameter_id=2&coordinates=33.868%2C151.209&radius=1000&order_by=datetime\"\n",
    "response = requests.get(url)"
   ]
  },
  {
   "cell_type": "code",
   "execution_count": 3,
   "metadata": {},
   "outputs": [
    {
     "data": {
      "text/plain": [
       "200"
      ]
     },
     "execution_count": 3,
     "metadata": {},
     "output_type": "execute_result"
    }
   ],
   "source": [
    "response.status_code"
   ]
  },
  {
   "cell_type": "code",
   "execution_count": 4,
   "metadata": {},
   "outputs": [
    {
     "name": "stdout",
     "output_type": "stream",
     "text": [
      "{'meta': {'name': 'openaq-api', 'license': 'CC BY 4.0d', 'website': '/', 'page': 1, 'limit': 100, 'found': 0}, 'results': []}\n"
     ]
    }
   ],
   "source": [
    "print(response.json())"
   ]
  },
  {
   "cell_type": "code",
   "execution_count": 14,
   "metadata": {},
   "outputs": [
    {
     "data": {
      "text/plain": [
       "'{\"meta\": {\"name\": \"openaq-api\", \"license\": \"CC BY 4.0d\", \"website\": \"/\", \"page\": 1, \"limit\": 100, \"found\": 0}, \"results\": []}'"
      ]
     },
     "execution_count": 14,
     "metadata": {},
     "output_type": "execute_result"
    }
   ],
   "source": [
    "# This method doesn't convert Python dic to JSON string\n",
    "import json\n",
    "json.dumps(response.json())"
   ]
  },
  {
   "cell_type": "code",
   "execution_count": 15,
   "metadata": {},
   "outputs": [
    {
     "name": "stdout",
     "output_type": "stream",
     "text": [
      "{\n",
      "    \"meta\": {\n",
      "        \"found\": 0,\n",
      "        \"license\": \"CC BY 4.0d\",\n",
      "        \"limit\": 100,\n",
      "        \"name\": \"openaq-api\",\n",
      "        \"page\": 1,\n",
      "        \"website\": \"/\"\n",
      "    },\n",
      "    \"results\": []\n",
      "}\n"
     ]
    }
   ],
   "source": [
    "# This method convert Python dic to JSON string
    "def jprint(obj):\n",
    "    text = json.dumps(obj,sort_keys=True, indent=4)\n",
    "    print(text)\n",
    "\n",
    "jprint(response.json())"
   ]
  },
  {
   "cell_type": "code",
   "execution_count": null,
   "metadata": {},
   "outputs": [],
   "source": []
  }
 ],
 "metadata": {
  "kernelspec": {
   "display_name": "Python 3.10.4 64-bit",
   "language": "python",
   "name": "python3"
  },
  "language_info": {
   "codemirror_mode": {
    "name": "ipython",
    "version": 3
   },
   "file_extension": ".py",
   "mimetype": "text/x-python",
   "name": "python",
   "nbconvert_exporter": "python",
   "pygments_lexer": "ipython3",
   "version": "3.10.4"
  },
  "orig_nbformat": 4,
  "vscode": {
   "interpreter": {
    "hash": "365032d17fd59a0e74e7f55fa32a917c10bf3380e47d2e7d073191d8fe718c84"
   }
  }
 },
 "nbformat": 4,
 "nbformat_minor": 2
}
